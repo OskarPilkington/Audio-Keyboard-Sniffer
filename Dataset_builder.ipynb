{
 "cells": [
  {
   "cell_type": "code",
   "execution_count": 14,
   "metadata": {},
   "outputs": [],
   "source": [
    "import os\n",
    "from itertools import combinations\n",
    "\n",
    "folder = \"output\"\n"
   ]
  },
  {
   "cell_type": "code",
   "execution_count": 20,
   "metadata": {},
   "outputs": [
    {
     "data": {
      "text/plain": [
       "8099"
      ]
     },
     "execution_count": 20,
     "metadata": {},
     "output_type": "execute_result"
    }
   ],
   "source": [
    "\n",
    "files = os.listdir(folder)\n",
    "files_dict = {}\n",
    "\n",
    "for ind, file in enumerate(files):\n",
    "    label = file.split('_')[-2]\n",
    "    if label in files_dict:\n",
    "        files_dict[label].append(file)\n",
    "    else:\n",
    "        files_dict[label] = [file]\n",
    "    \n",
    "# list(files_dict)\n",
    "\n",
    "combos = []\n",
    "\n",
    "# Create all matching combinations, all of these are correct samples of the same key being pressed\n",
    "\n",
    "for key in list(files_dict):\n",
    "    key_combos = list(combinations(files_dict[key],2))\n",
    "    # print(key)\n",
    "    # print(key_combos)\n",
    "    key_combos = [(k[0],k[1],1) for k in key_combos]\n",
    "    combos.extend(key_combos)\n",
    "len(combos)\n",
    "\n"
   ]
  }
 ],
 "metadata": {
  "kernelspec": {
   "display_name": "Python 3",
   "language": "python",
   "name": "python3"
  },
  "language_info": {
   "codemirror_mode": {
    "name": "ipython",
    "version": 3
   },
   "file_extension": ".py",
   "mimetype": "text/x-python",
   "name": "python",
   "nbconvert_exporter": "python",
   "pygments_lexer": "ipython3",
   "version": "3.10.11"
  },
  "orig_nbformat": 4
 },
 "nbformat": 4,
 "nbformat_minor": 2
}
