{
 "cells": [
  {
   "cell_type": "code",
   "execution_count": 30,
   "metadata": {},
   "outputs": [],
   "source": [
    "import os\n",
    "from itertools import combinations\n",
    "import random\n",
    "import csv\n",
    "\n",
    "folder = \"output\"\n",
    "output_file_name = \"key_press_pairs.csv\"\n"
   ]
  },
  {
   "cell_type": "code",
   "execution_count": 36,
   "metadata": {},
   "outputs": [
    {
     "name": "stdout",
     "output_type": "stream",
     "text": [
      "8080\n",
      "20200\n",
      "17901\n"
     ]
    }
   ],
   "source": [
    "\n",
    "files = os.listdir(folder)\n",
    "files_dict = {}\n",
    "\n",
    "for ind, file in enumerate(files):\n",
    "    label = file.split('_')[-2]\n",
    "    if label in files_dict:\n",
    "        files_dict[label].append(file)\n",
    "    else:\n",
    "        files_dict[label] = [file]\n",
    "    \n",
    "# list(files_dict)\n",
    "\n",
    "combos = []\n",
    "\n",
    "# Create all matching combinations, all of these are correct samples of the same key being pressed\n",
    "\n",
    "for key in list(files_dict):\n",
    "    key_combos = list(combinations(files_dict[key],2))\n",
    "    # print(key)\n",
    "    # print(key_combos)\n",
    "    key_combos = [(k[0],k[1],1) for k in key_combos]\n",
    "    combos.extend(key_combos)\n",
    "print(len(combos))\n",
    "\n",
    "# Create an equal amount of random samples\n",
    "for i in range(int(len(combos)*1.5)):\n",
    "    key1 = ''\n",
    "    key2 = ''\n",
    "    # Pick two keys at random until they don't match\n",
    "    while(key1 == key2):\n",
    "        key1 = random.choice(list(files_dict))\n",
    "        key2 = random.choice(list(files_dict))\n",
    "    combos.append((random.choice(files_dict[key1]), random.choice(files_dict[key2]), 0))\n",
    "print(len(combos))\n",
    "print(len(set(combos)))\n",
    "combos = set(combos)\n"
   ]
  },
  {
   "cell_type": "code",
   "execution_count": 37,
   "metadata": {},
   "outputs": [
    {
     "name": "stdout",
     "output_type": "stream",
     "text": [
      "CSV file created: shuffled_data.csv\n"
     ]
    }
   ],
   "source": [
    "with open(output_file_name, 'w') as fd:\n",
    "    writer = csv.writer(fd)\n",
    "    # writer.writerow(['sample_1', 'sample_2', 'label'])\n",
    "    writer.writerows(combos)\n",
    "\n",
    "print(\"CSV file created: shuffled_data.csv\")"
   ]
  }
 ],
 "metadata": {
  "kernelspec": {
   "display_name": "Python 3",
   "language": "python",
   "name": "python3"
  },
  "language_info": {
   "codemirror_mode": {
    "name": "ipython",
    "version": 3
   },
   "file_extension": ".py",
   "mimetype": "text/x-python",
   "name": "python",
   "nbconvert_exporter": "python",
   "pygments_lexer": "ipython3",
   "version": "3.10.11"
  },
  "orig_nbformat": 4
 },
 "nbformat": 4,
 "nbformat_minor": 2
}
